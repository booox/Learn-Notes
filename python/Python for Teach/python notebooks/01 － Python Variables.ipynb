{
 "cells": [
  {
   "cell_type": "markdown",
   "metadata": {},
   "source": [
    "Hello, Everybody!\n",
    "欢迎来临Python乐园，马上就要开始我们的寻蟒之旅了。开始之前，提醒一下，要注意左边带有 **In [ ]** 的地方，就像下面这样："
   ]
  },
  {
   "cell_type": "code",
   "execution_count": null,
   "metadata": {
    "collapsed": true
   },
   "outputs": [],
   "source": []
  },
  {
   "cell_type": "markdown",
   "metadata": {},
   "source": [
    "你可以在后面的框里输入一些内容试试。通常里面会有一个下划线的标志，这就是需要你修改的地方： _\n",
    "\n",
    "当你修改好之后，你可以单击上面的按钮来运行它，查看结果。什么不知道是哪个，就是那个三角形的那个。\n",
    "\n",
    "小伙子，这眼力可不行，你要被巨蟒吞掉了。\n",
    "\n",
    "准备好了吗？"
   ]
  },
  {
   "cell_type": "markdown",
   "metadata": {},
   "source": [
    "## ~ ~ ~ 欢迎您，来到Python乐园 ~ ~ ~"
   ]
  },
  {
   "cell_type": "markdown",
   "metadata": {},
   "source": [
    "当我们编程时，哦，不，要想在Python乐园里生存，法则一：要能记住东西。\n",
    "\n",
    "要学会分清各种不同类型的东西，像三只眼的乌鸦、会爬树的蛙，秋原的叫声……\n",
    "\n",
    "这些不同类型的东西，我们称之为 **数据** 。\n",
    "\n",
    "而我们今天这一关就是要学会给这些 **数据** 贴上标签，在我们这里，我们亲切的称它为 **变量** 。\n",
    "\n",
    " **变量** ？哦，这样给你们说吧，就是写有名字的标签，而这些标签是可以重复利用的，就像即时贴一样。\n",
    " \n",
    " 可以贴到一件东西上，也可以从原来的东西上撕下来，转贴到新的东西上。\n",
    "\n",
    "希望，你们能学会这里的第一个法则，要不然的话……\n",
    "\n",
    "时间不早了，让我们动身吧，我们要赶在太阳落山之前，到达营地，要不然的话……\n",
    "\n",
    "（30分钟后……）\n",
    "“不要动”，看到没有，“前面树上有几只青蛙”，“三只”，“它们可不是普通的青蛙，它们会喷射出毒液，让一头牛在半分钟内死去”\n",
    "\n",
    "“记住它”\n",
    "\n",
    "“我刚才说过，”，我们可以用 **变量** 来记住东西，现在我们就给它一个名字，叫 *poison_frog*"
   ]
  },
  {
   "cell_type": "code",
   "execution_count": 1,
   "metadata": {
    "collapsed": true
   },
   "outputs": [],
   "source": [
    "poison_frog = _"
   ]
  },
  {
   "cell_type": "markdown",
   "metadata": {},
   "source": [
    "你需要将上面的下划线修改为数字 3 。"
   ]
  },
  {
   "cell_type": "markdown",
   "metadata": {},
   "source": [
    "Python知识库：\n",
    "  \n",
    "在Python乐园中，我们将数字分成两类：\n",
    "\n",
    "  * 整数 ： -34, 0, 8, 125 或 89789454613216543\n",
    "  * 浮点数：-5.6, 3.1415926\n",
    "  \n",
    "在下面框里将圆周率也记下来了，哦，就用 *pi* 这个标签吧。"
   ]
  },
  {
   "cell_type": "code",
   "execution_count": 2,
   "metadata": {
    "collapsed": true
   },
   "outputs": [],
   "source": [
    "pi = _"
   ]
  },
  {
   "cell_type": "code",
   "execution_count": null,
   "metadata": {
    "collapsed": true
   },
   "outputs": [],
   "source": []
  }
 ],
 "metadata": {
  "kernelspec": {
   "display_name": "Python 2",
   "language": "python",
   "name": "python2"
  },
  "language_info": {
   "codemirror_mode": {
    "name": "ipython",
    "version": 2
   },
   "file_extension": ".py",
   "mimetype": "text/x-python",
   "name": "python",
   "nbconvert_exporter": "python",
   "pygments_lexer": "ipython2",
   "version": "2.7.6"
  }
 },
 "nbformat": 4,
 "nbformat_minor": 0
}

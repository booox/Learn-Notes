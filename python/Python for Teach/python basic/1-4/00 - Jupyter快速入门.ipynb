{
 "cells": [
  {
   "cell_type": "markdown",
   "metadata": {},
   "source": [
    "# 欢迎来到Jupyter"
   ]
  },
  {
   "cell_type": "markdown",
   "metadata": {},
   "source": [
    "Jupyter是什么，你可以用她记笔记，写代码，显示代码运行的结果，你还可以插入图片，将她分享给你的朋友。\n",
    "总之，她是一个非常出色，而且最重要的是，还很容易使用。"
   ]
  },
  {
   "cell_type": "markdown",
   "metadata": {},
   "source": [
    "## 理解Cell的概念"
   ]
  },
  {
   "cell_type": "markdown",
   "metadata": {},
   "source": [
    "* 在Jupyter中，内容都是写到Cell当中的，不论是文本还是代码"
   ]
  },
  {
   "cell_type": "markdown",
   "metadata": {},
   "source": [
    "### Cell种类"
   ]
  },
  {
   "cell_type": "markdown",
   "metadata": {},
   "source": [
    "在上面的工具栏当中你会很容易的发现，Cell分成四种：\n",
    "    * Markdown\n",
    "    * Code\n",
    "    * Raw NBConvert\n",
    "    * Heading\n",
    "这里先介绍前面两种，也是最常用的两种。\n",
    "\n",
    "#### Markdown\n",
    "\n",
    "下面就是一个类型为Markdown的Cell(其实，上面这些也都是Markdown，包括当前这个）。\n",
    "所谓 [Markdown]() 本身就是普通的文本，只是它还是一种好用的标记语言，它可以将文本进行一些快速格式化，近几年特别流行。"
   ]
  },
  {
   "cell_type": "markdown",
   "metadata": {},
   "source": [
    "哈，这里可以写你想写的文字。\n",
    "\n",
    "* 这是一个列表\n",
    "* 这是一个列表\n",
    "\n",
    "1. 这也是一个列表\n",
    "2. 这是列表2"
   ]
  },
  {
   "cell_type": "markdown",
   "metadata": {},
   "source": [
    "#### Code\n",
    "\n",
    "所谓Code，当然是代码啦。也就是这种类型的Cell，你可以在当中直接写Python的代码，而且还可以运行它并马上看到结果。"
   ]
  },
  {
   "cell_type": "code",
   "execution_count": 5,
   "metadata": {
    "collapsed": false
   },
   "outputs": [
    {
     "data": {
      "text/plain": [
       "5"
      ]
     },
     "execution_count": 5,
     "metadata": {},
     "output_type": "execute_result"
    }
   ],
   "source": [
    "3 + 2"
   ]
  },
  {
   "cell_type": "markdown",
   "metadata": {},
   "source": [
    "> 其实Code和Markdown这两者很容易区分，不知道你发现了没有"
   ]
  },
  {
   "cell_type": "code",
   "execution_count": 3,
   "metadata": {
    "collapsed": true
   },
   "outputs": [],
   "source": [
    "a = 3"
   ]
  },
  {
   "cell_type": "markdown",
   "metadata": {},
   "source": [
    "就是在类型为Code的Cell的左边有这个标识，**In [n]** ，n为数字，\n",
    "而下面的 **Out[n]** 则为输出，通常有三种情况：\n",
    "\n",
    "* 代码有错误，将错误信息输出"
   ]
  },
  {
   "cell_type": "code",
   "execution_count": 4,
   "metadata": {
    "collapsed": false
   },
   "outputs": [
    {
     "ename": "NameError",
     "evalue": "name 'xyz' is not defined",
     "output_type": "error",
     "traceback": [
      "\u001b[1;31m---------------------------------------------------------------------------\u001b[0m",
      "\u001b[1;31mNameError\u001b[0m                                 Traceback (most recent call last)",
      "\u001b[1;32m<ipython-input-4-878b19e1d29b>\u001b[0m in \u001b[0;36m<module>\u001b[1;34m()\u001b[0m\n\u001b[1;32m----> 1\u001b[1;33m \u001b[0mxyz\u001b[0m \u001b[1;33m+\u001b[0m \u001b[1;36m3\u001b[0m\u001b[1;33m\u001b[0m\u001b[0m\n\u001b[0m",
      "\u001b[1;31mNameError\u001b[0m: name 'xyz' is not defined"
     ]
    }
   ],
   "source": [
    "xyz + 3"
   ]
  },
  {
   "cell_type": "markdown",
   "metadata": {},
   "source": [
    "    * 这是因为代码当中的 *xyz* 没有被定义，出错啦，所以给出错误提示。"
   ]
  },
  {
   "cell_type": "markdown",
   "metadata": {},
   "source": [
    "* 如果没有报错，但也没有要输出的内容，则为没有 **Out**"
   ]
  },
  {
   "cell_type": "code",
   "execution_count": 6,
   "metadata": {
    "collapsed": true
   },
   "outputs": [],
   "source": [
    "x = 3"
   ]
  },
  {
   "cell_type": "markdown",
   "metadata": {},
   "source": [
    "    * 这里只是定义了一个名称为x的变量，给它赋了值，但并没有需要输出的内容，所以没有输出（Out）。"
   ]
  },
  {
   "cell_type": "markdown",
   "metadata": {},
   "source": [
    "* 如果没有报错，同时还有要输出的内容，则有Out，并将结果输出。"
   ]
  },
  {
   "cell_type": "code",
   "execution_count": 7,
   "metadata": {
    "collapsed": false
   },
   "outputs": [
    {
     "name": "stdout",
     "output_type": "stream",
     "text": [
      "3\n"
     ]
    }
   ],
   "source": [
    "x = 3\n",
    "print x"
   ]
  },
  {
   "cell_type": "markdown",
   "metadata": {},
   "source": [
    "    * 上面Code中第一条语句将3赋给了变量x\n",
    "    * 第二条语句将 x 输出到屏幕上"
   ]
  },
  {
   "cell_type": "code",
   "execution_count": null,
   "metadata": {
    "collapsed": true
   },
   "outputs": [],
   "source": []
  },
  {
   "cell_type": "markdown",
   "metadata": {},
   "source": [
    "### 运行Cell\n",
    "\n",
    "Cell有两种状态：\n",
    "    1. 编辑状态：此时可以写文字，写代码\n",
    "    2. 运行状态：如果是Markdown,则将格式化语言渲染后输出；如果是Code，则运行并将可能结果输出。\n",
    "    \n",
    "运行Cell的方法很简单(注意不论是Code，还是Markdown，都可以运行）：\n",
    "**Ctrl + Enter** : 执行当前选中的Cell,并停留在当前Cell\n",
    "**Shift + Enter** : 执行当前选中的Cell，并移动到下一个Cell"
   ]
  },
  {
   "cell_type": "code",
   "execution_count": null,
   "metadata": {
    "collapsed": true
   },
   "outputs": [],
   "source": []
  }
 ],
 "metadata": {
  "kernelspec": {
   "display_name": "Python 2",
   "language": "python",
   "name": "python2"
  },
  "language_info": {
   "codemirror_mode": {
    "name": "ipython",
    "version": 2
   },
   "file_extension": ".py",
   "mimetype": "text/x-python",
   "name": "python",
   "nbconvert_exporter": "python",
   "pygments_lexer": "ipython2",
   "version": "2.7.6"
  }
 },
 "nbformat": 4,
 "nbformat_minor": 0
}

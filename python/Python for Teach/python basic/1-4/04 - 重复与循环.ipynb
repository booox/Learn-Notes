{
 "cells": [
  {
   "cell_type": "markdown",
   "metadata": {},
   "source": [
    "# 重复与循环"
   ]
  },
  {
   "cell_type": "markdown",
   "metadata": {},
   "source": [
    "小故事：\n",
    "\n",
    "    西西弗斯因为在天庭犯了法，被大神惩罚，降到人世间来受苦。对他的惩罚是：要推一块石头上山。每天，西西弗斯都费了很大的劲把那块石头推到山顶，然后回家休息，但到了晚上石头又会自动地滚下来，于是，第二天又要把那块石头往山上推。这样，西西弗斯所面临的是永无止境的失败。大神要惩罚西西弗斯，也就是要折磨他的心灵，使他在“永无止境的失败”命运中，受苦受难。 \n",
    "\n",
    "    可是，西西弗斯还是不肯认命，每次，在他推石头上山时，大神都打击他，告诉他不可能成功。西西弗斯不肯在成功和失败的圈套中被困住，一心想着：推石头上山是我的责任，只要我把石头推上山顶，我的责任就尽到了，至于石头是否会滚下来，那不是我的事。 \n",
    "    再进一步，当西西弗斯努力地推石头上山时，他心中显得非常平静，因为他安慰着自己：明天还有石头可推，明天还不会失业，明天还有希望。 \n",
    "\n",
    "    大神因为无法再惩罚西西弗斯，就放他回了天庭。 "
   ]
  },
  {
   "cell_type": "markdown",
   "metadata": {},
   "source": [
    "对西西弗斯来说每天重复着同样的事情，而又能坚持，是因为他是神，而且又从中读到了不懂的意义。\n",
    "\n",
    "可对于普通的人来说，老是重复同样的事情，可能是会发疯掉的。\n",
    "\n",
    "幸好，我们有计算机，重复是它最擅长的事之一。"
   ]
  },
  {
   "cell_type": "markdown",
   "metadata": {},
   "source": [
    "## 更新变量"
   ]
  },
  {
   "cell_type": "code",
   "execution_count": null,
   "metadata": {
    "collapsed": true
   },
   "outputs": [],
   "source": [
    "x = 0"
   ]
  },
  {
   "cell_type": "markdown",
   "metadata": {},
   "source": [
    "在赋值语句中有一个模式就是用赋值语句来更新变量\n",
    "\n",
    "变量的新值取决于原来的值"
   ]
  },
  {
   "cell_type": "code",
   "execution_count": null,
   "metadata": {
    "collapsed": true
   },
   "outputs": [],
   "source": [
    "x = x + 1"
   ]
  },
  {
   "cell_type": "markdown",
   "metadata": {},
   "source": [
    "* 这表示“首先获取x当前的值，加上1，然后再将新得到的值赋给x，或者说用新的值更新了x”"
   ]
  },
  {
   "cell_type": "markdown",
   "metadata": {},
   "source": [
    "如果你试图去更新一个不存在的变量，Python会提示你出错啦^^^^^^^\n",
    "\n",
    "为什么？"
   ]
  },
  {
   "cell_type": "code",
   "execution_count": null,
   "metadata": {
    "collapsed": false
   },
   "outputs": [],
   "source": [
    "y = y + 2"
   ]
  },
  {
   "cell_type": "markdown",
   "metadata": {},
   "source": [
    "要注意的是：我们在更新变量之前，要给变量赋初值，操作如下："
   ]
  },
  {
   "cell_type": "code",
   "execution_count": null,
   "metadata": {
    "collapsed": true
   },
   "outputs": [],
   "source": [
    "x = 0\n",
    "x = x - 1"
   ]
  },
  {
   "cell_type": "markdown",
   "metadata": {},
   "source": [
    "通过加1来更新变量，叫作 **自加** ；\n",
    "通过加1来更新变量，叫作 **自减** ；\n",
    "\n",
    "有时，为了方便，也可以简写成这样:"
   ]
  },
  {
   "cell_type": "code",
   "execution_count": null,
   "metadata": {
    "collapsed": false
   },
   "outputs": [],
   "source": [
    "x += 1\n",
    "x = x + 1\n",
    "\n",
    "\n",
    "x -= 1\n",
    "x = x - 1"
   ]
  },
  {
   "cell_type": "markdown",
   "metadata": {},
   "source": [
    "但不建议大家写成这样，因为这会降低程序的易读性。"
   ]
  },
  {
   "cell_type": "code",
   "execution_count": null,
   "metadata": {
    "collapsed": false
   },
   "outputs": [],
   "source": [
    "print '-------'\n",
    "print '-------'\n",
    "print '-------'\n",
    "print '-------'"
   ]
  },
  {
   "cell_type": "markdown",
   "metadata": {},
   "source": [
    "## While 语句"
   ]
  },
  {
   "cell_type": "markdown",
   "metadata": {},
   "source": [
    "计算机经常被用来自动化执行重复的任务。\n",
    "\n",
    "*Python* 中提供了几种方式来重复执行。\n",
    "\n",
    "其中一种就是 **while** "
   ]
  },
  {
   "cell_type": "code",
   "execution_count": null,
   "metadata": {
    "collapsed": true
   },
   "outputs": [],
   "source": [
    "candy_num = 5\n",
    "while candy_num > 0:\n",
    "    print \"我现在有 %s 颗糖果。\" % candy_num\n",
    "    candy_num = candy_num - 1\n",
    "    print \"\\t 我吃了一颗\"\n",
    "    \n",
    "print '\\nOH,no! Where is my candy?'"
   ]
  },
  {
   "cell_type": "markdown",
   "metadata": {},
   "source": [
    "那如何理解 **while** 语句呢？\n",
    "\n",
    "1. 判断条件 `candy_num > 0` ，返回 *True* 或 *False* \n",
    "2. 如果条件为 *False* : 退出循环，执行后面的语句\n",
    "3. 如果条件为 *True* : 执行主体语句，并回到第一步。"
   ]
  },
  {
   "cell_type": "code",
   "execution_count": null,
   "metadata": {
    "collapsed": true
   },
   "outputs": [],
   "source": [
    "while 1:\n",
    "    print 'Are you kidding me?'"
   ]
  },
  {
   "cell_type": "markdown",
   "metadata": {},
   "source": [
    "## 无限循环与退出循环"
   ]
  },
  {
   "cell_type": "markdown",
   "metadata": {},
   "source": [
    "也就是在代码中，没有能使循环停止的条件。\n",
    "    \n",
    "*　像上面的 *Candy_num* 的例子中，一开始　*Candy_num*　为5\n",
    "    *　在循环主体中，每次减1，而循环主体的执行条件为　*Candy_num>0*\n",
    "    * 这样就有了退出的机制，它不会无限循环下去。\n",
    "    \n",
    "* 而对于上面那个 *kidding* 的例子中\n",
    "    * 循环的执行条件为 *1* ，而1为真\n",
    "    * 在循环主体中又没有退出机制，所以会一起执行下去。\n",
    "    \n",
    "\n"
   ]
  },
  {
   "cell_type": "markdown",
   "metadata": {},
   "source": [
    "但，无限循环又是非常有用的，只是我们注意在里面设置退出循环的机制。"
   ]
  },
  {
   "cell_type": "code",
   "execution_count": null,
   "metadata": {
    "collapsed": false
   },
   "outputs": [],
   "source": [
    "while True:\n",
    "    line = raw_input('> ')\n",
    "    if line == 'done':\n",
    "        break\n",
    "    print line\n",
    "    \n",
    "print 'Done!'"
   ]
  },
  {
   "cell_type": "markdown",
   "metadata": {},
   "source": [
    "**break** : 注意这里的 *break* 的作用是退出整个循环，跳到并执行循环后面的语句"
   ]
  },
  {
   "cell_type": "markdown",
   "metadata": {},
   "source": [
    "## 使用 continue结束本次循环"
   ]
  },
  {
   "cell_type": "markdown",
   "metadata": {},
   "source": [
    "在整个循环的过程中，我们有时想结束本次循环操作并立刻跳到下次循环\n",
    "\n",
    "这时，我们就需要用到 *continue* "
   ]
  },
  {
   "cell_type": "code",
   "execution_count": null,
   "metadata": {
    "collapsed": true
   },
   "outputs": [],
   "source": [
    "while True:\n",
    "    line = raw_input(\"> \")\n",
    "    if line[0] == '#':\n",
    "        continue\n",
    "    if line == 'done':\n",
    "        break\n",
    "    print line\n",
    "    \n",
    "print 'Done!'"
   ]
  },
  {
   "cell_type": "markdown",
   "metadata": {},
   "source": [
    "## For 循环"
   ]
  },
  {
   "cell_type": "markdown",
   "metadata": {},
   "source": [
    "有时，我们想循环一系列的事情，例如一个单词的列表，一个文件中的所有的行，一些数字的列表等等。\n",
    "\n",
    "我们当然可以去写一个 *while* 来实现循环的操作。\n",
    "\n",
    "但我们有更加方便的 **for** 循环。"
   ]
  },
  {
   "cell_type": "code",
   "execution_count": null,
   "metadata": {
    "collapsed": true
   },
   "outputs": [],
   "source": [
    "friends = ['Bob', 'Tom', 'Jerry', 'Rock']\n",
    "\n",
    "for friend in friends:\n",
    "    print 'Hello, ', friend\n",
    "    \n",
    "print 'Done!'"
   ]
  },
  {
   "cell_type": "markdown",
   "metadata": {},
   "source": [
    "## 循环操作的模式"
   ]
  },
  {
   "cell_type": "markdown",
   "metadata": {},
   "source": []
  }
 ],
 "metadata": {
  "kernelspec": {
   "display_name": "Python 2",
   "language": "python",
   "name": "python2"
  },
  "language_info": {
   "codemirror_mode": {
    "name": "ipython",
    "version": 2
   },
   "file_extension": ".py",
   "mimetype": "text/x-python",
   "name": "python",
   "nbconvert_exporter": "python",
   "pygments_lexer": "ipython2",
   "version": "2.7.6"
  }
 },
 "nbformat": 4,
 "nbformat_minor": 0
}

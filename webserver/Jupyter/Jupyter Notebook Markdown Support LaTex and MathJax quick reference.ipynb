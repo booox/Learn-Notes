{
 "cells": [
  {
   "cell_type": "markdown",
   "metadata": {},
   "source": [
    "在 *Markdown* 中通过 *LaTex* 可以方便的生成各种复杂的公式\n",
    "\n",
    "ref: \n",
    "\n",
    "[MathJax使用LaTeX语法编写数学公式教程](http://iori.sinaapp.com/17.html/comment-page-1?replytocom=2)\n",
    "\n",
    "[MathJax basic tutorial and quick reference](http://meta.math.stackexchange.com/questions/5020/mathjax-basic-tutorial-and-quick-reference)\n"
   ]
  },
  {
   "cell_type": "markdown",
   "metadata": {},
   "source": [
    "几点注意：\n",
    "\n",
    "* 将 Cell 的格式切换为 Markdown\n",
    "* inline formulas: `$...$` （行内显示的公式）\n",
    "* displayed formulas: `$$...$$` (独立公式)\n",
    "* 进入编辑状态，可以查看公式输入方法"
   ]
  },
  {
   "cell_type": "markdown",
   "metadata": {},
   "source": [
    "## 上下标"
   ]
  },
  {
   "cell_type": "markdown",
   "metadata": {},
   "source": [
    "> `^` 表示上标， `_` 表示下标 如果内容多于一个字符，要用 `{}`括起来。"
   ]
  },
  {
   "cell_type": "markdown",
   "metadata": {},
   "source": [
    "$$x^{y^z}=(1 + e^x)^{-2xy^w}$$"
   ]
  },
  {
   "cell_type": "markdown",
   "metadata": {},
   "source": [
    "$$x^{y^z}=(1+{\\rm e}^x)^{-2xy^w}$$"
   ]
  },
  {
   "cell_type": "markdown",
   "metadata": {},
   "source": [
    "> 如果左右两边都有上下标，可以用 `\\sideset` 命令"
   ]
  },
  {
   "cell_type": "markdown",
   "metadata": {},
   "source": [
    "$$\\sideset{_2^1}{^3_4}\\bigotimes$$"
   ]
  },
  {
   "cell_type": "markdown",
   "metadata": {},
   "source": [
    "## 括号和分隔符"
   ]
  },
  {
   "cell_type": "markdown",
   "metadata": {},
   "source": [
    "> ()、[] 和 | 表示自己， \\{\\}表示 {}。当要显示大号的括号或分隔符时，要用 \\left 和 \\right。"
   ]
  },
  {
   "cell_type": "markdown",
   "metadata": {},
   "source": [
    "$$f(x,y,z) = 3y^2z \\left( 3+\\frac{7x+5}{1+y^2} \\right)$$"
   ]
  },
  {
   "cell_type": "markdown",
   "metadata": {},
   "source": [
    "> 有时候要用\\left.或\\right.进行匹配而不显示本身"
   ]
  },
  {
   "cell_type": "markdown",
   "metadata": {},
   "source": [
    "$$\\left. \\frac{{\\rm d}u}{{\\rm d}x} \\right| _{x=0}$$"
   ]
  },
  {
   "cell_type": "markdown",
   "metadata": {},
   "source": [
    "## 分数"
   ]
  },
  {
   "cell_type": "markdown",
   "metadata": {},
   "source": [
    "例子：$\\frac{1}{3}$ 或 $1 \\over 3$"
   ]
  },
  {
   "cell_type": "markdown",
   "metadata": {},
   "source": [
    "## 开方"
   ]
  },
  {
   "cell_type": "markdown",
   "metadata": {},
   "source": [
    "`\\sqrt{2}`"
   ]
  },
  {
   "cell_type": "markdown",
   "metadata": {},
   "source": [
    "$\\sqrt{2}$ 或 $\\sqrt[n]{3}$"
   ]
  },
  {
   "cell_type": "markdown",
   "metadata": {},
   "source": [
    "## 省略号"
   ]
  },
  {
   "cell_type": "markdown",
   "metadata": {},
   "source": [
    "`\\ldots` 与文本底线对齐的省略号， `\\cdots` 表示与文本中线对齐的省略号"
   ]
  },
  {
   "cell_type": "markdown",
   "metadata": {},
   "source": [
    "$$f(x_1,x_2,\\ldots,x_n) = x_1^2 + x_2^2 + \\cdots + x_n^2$$"
   ]
  },
  {
   "cell_type": "markdown",
   "metadata": {},
   "source": [
    "## 矢量"
   ]
  },
  {
   "cell_type": "markdown",
   "metadata": {},
   "source": [
    "`\\vec{a}`"
   ]
  },
  {
   "cell_type": "markdown",
   "metadata": {},
   "source": [
    "$\\vec{a} \\cdot \\vec{b}=0$"
   ]
  },
  {
   "cell_type": "markdown",
   "metadata": {},
   "source": [
    "## 积分"
   ]
  },
  {
   "cell_type": "markdown",
   "metadata": {},
   "source": [
    "`\\int_0^1 x^2 {\\rm d}x`"
   ]
  },
  {
   "cell_type": "markdown",
   "metadata": {},
   "source": [
    "$$\\int_0^1 x^2 {\\rm d}x$$"
   ]
  },
  {
   "cell_type": "markdown",
   "metadata": {},
   "source": [
    "## 极限运算"
   ]
  },
  {
   "cell_type": "markdown",
   "metadata": {},
   "source": [
    "`\\lim`"
   ]
  },
  {
   "cell_type": "markdown",
   "metadata": {},
   "source": [
    "$$\\lim_{n \\rightarrow +\\infty} \\frac{1}{n(n+1)}$$"
   ]
  },
  {
   "cell_type": "markdown",
   "metadata": {},
   "source": [
    "## 累加、累乘运算"
   ]
  },
  {
   "cell_type": "markdown",
   "metadata": {},
   "source": [
    "累加： `\\sum`   累乘: `\\prod`"
   ]
  },
  {
   "cell_type": "markdown",
   "metadata": {},
   "source": [
    "$\\sum_{i=0}^n \\frac{1}{i^2}$　和　$\\prod_{i=0}^n \\frac{1}{i^2}$"
   ]
  },
  {
   "cell_type": "markdown",
   "metadata": {},
   "source": [
    "## 希腊字母"
   ]
  },
  {
   "cell_type": "markdown",
   "metadata": {},
   "source": [
    "\\alpha　A　\\beta　B　\\gamma　\\Gamma　\\delta　\\Delta　\\epsilon　E\n",
    "\\varepsilon　　\\zeta　Z　\\eta　H　\\theta　\\Theta　\\vartheta\n",
    "\\iota　I　\\kappa　K　\\lambda　\\Lambda　\\mu　M　\\nu　N\n",
    "\\xi　\\Xi　o　O　\\pi　\\Pi　\\varpi　　\\rho　P\n",
    "\\varrho　　\\sigma　\\Sigma　\\varsigma　　\\tau　T　\\upsilon　\\Upsilon\n",
    "\\phi　\\Phi　\\varphi　　\\chi　X　\\psi　\\Psi　\\omega　\\Omega"
   ]
  },
  {
   "cell_type": "markdown",
   "metadata": {},
   "source": [
    "|char |char |char |char |char |char |char |char |char |char|\n",
    "|:--:|:--:|:--:|:--:|:--:|:--:|:--:|:--:|:--:|:--:|\n",
    "|$\\alpha$ |$A$ |$\\beta$ |$B$ |$\\gamma$ |$\\Gamma$ |$\\delta$ |$\\Delta$ |$\\epsilon$ |$E$|\n",
    "|$\\varepsilon$  |$\\zeta$ |$Z$ |$\\eta$ |$H$ |$\\theta$ |$\\Theta$ |$\\vartheta$|\n",
    "|$\\iota$ |$I$ |$\\kappa$ |$K$ |$\\lambda$ |$\\Lambda$ |$\\mu$ |$M$ |$\\nu$ |$N$|\n",
    "|$\\xi$ |$\\Xi$ |$o$ |$O$ |$\\pi$ |$\\Pi$ |$\\varpi$  |$\\rho$ |$P$|\n",
    "|$\\varrho$  |$\\sigma$ |$\\Sigma$ |$\\varsigma$  |$\\tau$ |$T$ |$\\upsilon$ |$\\Upsilon$|\n",
    "|$\\phi$ |$\\Phi$ |$\\varphi$  |$\\chi$ |$X$ |$\\psi$ |$\\Psi$ |$\\omega$ |$\\Omega$|"
   ]
  },
  {
   "cell_type": "markdown",
   "metadata": {},
   "source": [
    "## 其它特殊字符"
   ]
  },
  {
   "cell_type": "markdown",
   "metadata": {},
   "source": [
    "关系运算符：\n",
    "±±：\\pm\n",
    "××：\\times\n",
    "÷÷：\\div\n",
    "∣∣：\\mid\n",
    "∤∤：\\nmid\n",
    "⋅⋅：\\cdot\n",
    "∘∘：\\circ\n",
    "∗∗：\\ast\n",
    "⨀⨀：\\bigodot\n",
    "⨂⨂：\\bigotimes\n",
    "⨁⨁：\\bigoplus\n",
    "≤≤：\\leq\n",
    "≥≥：\\geq\n",
    "≠≠：\\neq\n",
    "≈≈：\\approx\n",
    "≡≡：\\equiv\n",
    "∑∑：\\sum\n",
    "∏∏：\\prod\n",
    "∐∐：\\coprod\n",
    "\n",
    "集合运算符：\n",
    "∅∅：\\emptyset\n",
    "∈∈：\\in\n",
    "∉∉：\\notin\n",
    "⊂⊂：\\subset\n",
    "⊃⊃：\\supset\n",
    "⊆⊆：\\subseteq\n",
    "⊇⊇：\\supseteq\n",
    "⋂⋂：\\bigcap\n",
    "⋃⋃：\\bigcup\n",
    "⋁⋁：\\bigvee\n",
    "⋀⋀：\\bigwedge\n",
    "⨄⨄：\\biguplus\n",
    "⨆⨆：\\bigsqcup\n",
    "\n",
    "对数运算符：\n",
    "loglog：\\log\n",
    "lglg：\\lg\n",
    "lnln：\\ln\n",
    "\n",
    "三角运算符：\n",
    "⊥⊥：\\bot\n",
    "∠∠：\\angle\n",
    "30∘30∘：30^\\circ\n",
    "sinsin：\\sin\n",
    "coscos：\\cos\n",
    "tantan：\\tan\n",
    "cotcot：\\cot\n",
    "secsec：\\sec\n",
    "csccsc：\\csc\n",
    "\n",
    "微积分运算符：\n",
    "′′：\\prime\n",
    "∫∫：\\int\n",
    "∬∬：\\iint\n",
    "∭∭：\\iiint\n",
    "∬∬⨌：\\iiiint\n",
    "∮∮：\\oint\n",
    "limlim：\\lim\n",
    "∞∞：\\infty\n",
    "∇∇：\\nabla\n",
    "\n",
    "逻辑运算符：\n",
    "∵∵：\\because\n",
    "∴∴：\\therefore\n",
    "∀∀：\\forall\n",
    "∃∃：\\exists\n",
    "≠≠：\\not=\n",
    "≯≯：\\not>\n",
    "⊄⊄：\\not\\subset\n",
    "\n",
    "戴帽符号：\n",
    "y^y^：\\hat{y}\n",
    "yˇyˇ：\\check{y}\n",
    "y˘y˘：\\breve{y}\n",
    "\n",
    "连线符号：\n",
    "\n",
    "$\\overline{a+b+c+d}$  , `\\overline{a+b+c+d}`\n",
    "\n",
    "$\\underline{a+b+c+d}$  , `\\underline{a+b+c+d}` \n",
    "\n",
    "$\\overbrace{a+\\underbrace{b+c}_{1.0}+d}^{2.0}$  , `\\overbrace{a+\\underbrace{b+c}_{1.0}+d}^{2.0}`\n",
    "\n",
    "\n",
    "箭头符号：\n",
    "↑↑：\\uparrow\n",
    "↓↓：\\downarrow\n",
    "⇑⇑：\\Uparrow\n",
    "⇓⇓：\\Downarrow\n",
    "→→：\\rightarrow\n",
    "←←：\\leftarrow\n",
    "⇒⇒：\\Rightarrow\n",
    "⇐⇐：\\Leftarrow\n",
    "⟶⟶：\\longrightarrow\n",
    "⟵⟵：\\longleftarrow\n",
    "⟹⟹：\\Longrightarrow\n",
    "⟸⟸：\\Longleftarrow\n",
    "\n",
    "要输出字符　空格　#　$　%　&　_　{　}　，用命令：　\\空格　\\#　\\$　\\%　\\&　\\_　\\{　\\}"
   ]
  },
  {
   "cell_type": "markdown",
   "metadata": {},
   "source": [
    "## 字体转换"
   ]
  },
  {
   "cell_type": "markdown",
   "metadata": {},
   "source": [
    "要对公式的某一部分字符进行字体转换，可以用{\\rm 需转换的部分字符}命令，其中\\rm可以参照下表选择合适的字体。一般情况下，公式默认为意大利体。"
   ]
  },
  {
   "cell_type": "markdown",
   "metadata": {},
   "source": [
    "\\rm　　罗马体　　　　　　　\\it　　意大利体\n",
    "\n",
    "\\bf　　黑体　　　　　　　　\\cal 　花体\n",
    "\n",
    "\\sl　　倾斜体　　　　　　　\\sf　　等线体\n",
    "\n",
    "\\mit 　数学斜体　　　　　　\\tt　　打字机字体\n",
    "\n",
    "\\sc　　小体大写字母"
   ]
  }
 ],
 "metadata": {
  "kernelspec": {
   "display_name": "Python 2",
   "language": "python",
   "name": "python2"
  },
  "language_info": {
   "codemirror_mode": {
    "name": "ipython",
    "version": 2
   },
   "file_extension": ".py",
   "mimetype": "text/x-python",
   "name": "python",
   "nbconvert_exporter": "python",
   "pygments_lexer": "ipython2",
   "version": "2.7.6"
  }
 },
 "nbformat": 4,
 "nbformat_minor": 0
}

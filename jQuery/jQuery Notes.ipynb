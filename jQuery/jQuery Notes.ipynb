{
 "cells": [
  {
   "cell_type": "markdown",
   "metadata": {},
   "source": [
    "* 23:18 2016/1/16 [codeskulptor](http://www.codeskulptor.org/docs.html)"
   ]
  },
  {
   "cell_type": "markdown",
   "metadata": {},
   "source": [
    "# Links\n",
    "\n",
    "* [jQuery - Official Site](http://jquery.com/)\n",
    "* [Try jQuery](https://www.codeschool.com/courses/try-jquery)\n",
    "* [jQuery Tutorial at W3schools](http://www.w3schools.com/jquery/)"
   ]
  },
  {
   "cell_type": "markdown",
   "metadata": {},
   "source": [
    "### 使用jQuery"
   ]
  },
  {
   "cell_type": "markdown",
   "metadata": {},
   "source": [
    "#### 把 jQuery 添加到您的网页"
   ]
  },
  {
   "cell_type": "code",
   "execution_count": null,
   "metadata": {
    "collapsed": false
   },
   "outputs": [],
   "source": [
    "# 在<head></head> 中加入\n",
    "<script src=\"https://code.jquery.com/jquery-1.10.2.js\"></script>"
   ]
  },
  {
   "cell_type": "markdown",
   "metadata": {},
   "source": [
    "#### HTML 和 Javascript"
   ]
  },
  {
   "cell_type": "code",
   "execution_count": null,
   "metadata": {
    "collapsed": false
   },
   "outputs": [],
   "source": [
    "# 在<head></head> 中加入\n",
    "<body>\n",
    "    <p id=\"hello\">Hello</p>\n",
    "    <a id=\"clickme\" href=\"#\">Click to hide me too</a>\n",
    "    <p id=\"p2\">Here is another paragraph</p>\n",
    "\n",
    "    <script>\n",
    "    $( \"#hello\" ).hide();\n",
    "    $( \"a#clickme\" ).click(function( event ) {\n",
    "      $(\"#p2\").toggle();\n",
    "    });\n",
    "\n",
    "    </script>\n",
    "</body>"
   ]
  },
  {
   "cell_type": "markdown",
   "metadata": {},
   "source": [
    "# 在Flask中用jQuery 实现 ajax"
   ]
  },
  {
   "cell_type": "markdown",
   "metadata": {},
   "source": [
    "## 几个要点"
   ]
  },
  {
   "cell_type": "markdown",
   "metadata": {},
   "source": [
    "### 加载 jQuery"
   ]
  },
  {
   "cell_type": "code",
   "execution_count": null,
   "metadata": {
    "collapsed": true
   },
   "outputs": [],
   "source": [
    "<script type=text/javascript src=\"{{ url_for('static', filename='jquery.js') }}\"></script>"
   ]
  },
  {
   "cell_type": "markdown",
   "metadata": {},
   "source": [
    "### 创建脚本标签 （Script tag）"
   ]
  },
  {
   "cell_type": "code",
   "execution_count": null,
   "metadata": {
    "collapsed": true
   },
   "outputs": [],
   "source": [
    "<script type=text/javascript>\n",
    "  $SCRIPT_ROOT = {{ request.script_root|tojson|safe }};\n",
    "</script>"
   ]
  },
  {
   "cell_type": "markdown",
   "metadata": {},
   "source": [
    "## JSON 视图函数"
   ]
  },
  {
   "cell_type": "code",
   "execution_count": null,
   "metadata": {
    "collapsed": true
   },
   "outputs": [],
   "source": [
    "from flask import Flask, jsonify, render_template, request, url_for\n",
    "app = Flask(__name__)\n",
    "\n",
    "@app.route('/_add_numbers')\n",
    "def add_numbers():\n",
    "    a = request.args.get('a', 0, type=int)\n",
    "    b = request.args.get('b', 0, type=int)\n",
    "    return jsonify(result=a + b)\n",
    "\n",
    "@app.route('/')\n",
    "def index():\n",
    "    return render_template('index.html')"
   ]
  },
  {
   "cell_type": "markdown",
   "metadata": {},
   "source": [
    "> 因为少了 `url_for` 浪费了两个小时"
   ]
  },
  {
   "cell_type": "markdown",
   "metadata": {},
   "source": [
    "## The HTML"
   ]
  },
  {
   "cell_type": "code",
   "execution_count": null,
   "metadata": {
    "collapsed": true
   },
   "outputs": [],
   "source": [
    "# layout.html\n",
    "<title>Flask AJAX Demo</title>\n",
    "<meta http-equiv=\"content-type\" content=\"text/html; charset=utf-8\">\n",
    "<script type=\"text/javascript\" src=\"{{ url_for('static', filename='js/jquery-1.10.2.js') }}\"></script>\n",
    "<script type=\"text/javascript\">\n",
    "  var $SCRIPT_ROOT = {{ request.script_root|tojson|safe }};\n",
    "</script>        \n",
    " \n",
    "{% block body %}{% endblock %}"
   ]
  },
  {
   "cell_type": "code",
   "execution_count": null,
   "metadata": {
    "collapsed": true
   },
   "outputs": [],
   "source": [
    "# index.html\n",
    "{% extends \"layout.html\" %}\n",
    "\n",
    "{% block body %}\n",
    "\n",
    "<h1>jQuery Example</h1>\n",
    "<p><input type=\"text\" size=5 name=\"a\"> +\n",
    "   <input type=\"text\" size=5 name=\"b\"> =\n",
    "   <span id=\"result\">?</span>\n",
    "<p><a href=\"#\" id=\"calculate\">calculate server side</a>\n",
    "\n",
    "<script type=\"text/javascript\" src=\"{{ url_for('static', filename='js/add_numbers.js') }}\"></script>\n",
    "{% endblock %}"
   ]
  },
  {
   "cell_type": "markdown",
   "metadata": {},
   "source": [
    "## javascript"
   ]
  },
  {
   "cell_type": "code",
   "execution_count": null,
   "metadata": {
    "collapsed": true
   },
   "outputs": [],
   "source": [
    "# add_numbers.js\n",
    "\n",
    "  $(function() {\n",
    "    $('a#calculate').bind('click', function() {\n",
    "      $.getJSON($SCRIPT_ROOT + '/_add_numbers', {\n",
    "        a: $('input[name=\"a\"]').val(),\n",
    "        b: $('input[name=\"b\"]').val()\n",
    "      }, function(data) {\n",
    "        $(\"#result\").text(data.result);\n",
    "      });\n",
    "      return false;\n",
    "    });\n",
    "  });"
   ]
  },
  {
   "cell_type": "markdown",
   "metadata": {},
   "source": [
    "> 保存为 `.js` 格式，不需要加上 `<script>` 标签 "
   ]
  },
  {
   "cell_type": "code",
   "execution_count": null,
   "metadata": {
    "collapsed": true
   },
   "outputs": [],
   "source": [
    "# 另一版本：add_numbers.js\n",
    "\n",
    "$(function() {\n",
    "    var submit_form = function(e) {\n",
    "      $.getJSON($SCRIPT_ROOT + '/_add_numbers', {\n",
    "        a: $('input[name=\"a\"]').val(),\n",
    "        b: $('input[name=\"b\"]').val()\n",
    "      }, function(data) {\n",
    "        $('#result').text(data.result);\n",
    "        $('input[name=a]').focus().select();\n",
    "      });\n",
    "      return false;\n",
    "    };\n",
    "    $('a#calculate').bind('click', submit_form);\n",
    "    $('input[type=text]').bind('keydown', function(e) {\n",
    "      if (e.keyCode == 13) {\n",
    "        submit_form(e);\n",
    "      }\n",
    "    });\n",
    "    $('input[name=a]').focus();\n",
    "  });"
   ]
  },
  {
   "cell_type": "markdown",
   "metadata": {},
   "source": [
    "# How jQuery Works"
   ]
  },
  {
   "cell_type": "markdown",
   "metadata": {},
   "source": [
    "* Ref: [How jQuery Works](https://learn.jquery.com/about-jquery/how-jquery-works/)"
   ]
  },
  {
   "cell_type": "markdown",
   "metadata": {},
   "source": [
    "## 下载 jQuery 副本"
   ]
  },
  {
   "cell_type": "markdown",
   "metadata": {},
   "source": [
    "* [ Downloading jQuery ](http://jquery.com/download/)\n",
    "    * [Download the compressed, production jQuery 3.0.0](https://code.jquery.com/jquery-3.0.0.min.js)"
   ]
  },
  {
   "cell_type": "markdown",
   "metadata": {},
   "source": [
    "## jQuery: The Basics"
   ]
  },
  {
   "cell_type": "code",
   "execution_count": null,
   "metadata": {
    "collapsed": true
   },
   "outputs": [],
   "source": [
    "<!doctype html>\n",
    "<html>\n",
    "<head>\n",
    "    <meta charset=\"utf-8\">\n",
    "    <title>Demo</title>\n",
    "</head>\n",
    "<body>\n",
    "    <a href=\"http://jquery.com/\">jQuery</a>\n",
    "    <script src=\"jquery.js\"></script>\n",
    "    <script>\n",
    " \n",
    "    // Your code goes here.\n",
    " \n",
    "    </script>\n",
    "</body>\n",
    "</html>"
   ]
  },
  {
   "cell_type": "markdown",
   "metadata": {},
   "source": [
    "## 在文档 `ready` 事件发生时执行代码"
   ]
  },
  {
   "cell_type": "markdown",
   "metadata": {},
   "source": [
    "* [.ready() event](http://api.jquery.com/ready/)"
   ]
  },
  {
   "cell_type": "markdown",
   "metadata": {},
   "source": [
    "### 在 `ready` 事件中，添加一个超链接的 `click` 事件"
   ]
  },
  {
   "cell_type": "code",
   "execution_count": null,
   "metadata": {
    "collapsed": true
   },
   "outputs": [],
   "source": [
    "$(document).ready(function() {\n",
    "    $(\"a\").click(function(event){\n",
    "        alert(\"Thanks for visiting!\");\n",
    "    });\n",
    "});"
   ]
  },
  {
   "cell_type": "markdown",
   "metadata": {},
   "source": [
    "### 阻止 `click` 事件默认行为（多数事件都可以）"
   ]
  },
  {
   "cell_type": "code",
   "execution_count": null,
   "metadata": {
    "collapsed": true
   },
   "outputs": [],
   "source": [
    "$(document).ready(function() {\n",
    "    $(\"a\").click(function(event){\n",
    "        alert(\"The link doesn't work.\");\n",
    "        event.preventDefault();\n",
    "    });\n",
    "});"
   ]
  },
  {
   "cell_type": "markdown",
   "metadata": {},
   "source": [
    "## 稍复杂的实例"
   ]
  },
  {
   "cell_type": "markdown",
   "metadata": {},
   "source": [
    "通过可以将 JS 代码放在单独的一个文件里，然后用 `<script>` 元素的 `src` 属性来指定 JS 文件"
   ]
  },
  {
   "cell_type": "code",
   "execution_count": null,
   "metadata": {
    "collapsed": true
   },
   "outputs": [],
   "source": [
    "# prevent.js\n",
    " $( document ).ready(function() {\n",
    "        $( \"a\" ).click(function( event ) {\n",
    "            alert( \"The link will no longer take you to jquery.com\" );\n",
    "            event.preventDefault();\n",
    "        });\n",
    "    });"
   ]
  },
  {
   "cell_type": "code",
   "execution_count": null,
   "metadata": {
    "collapsed": true
   },
   "outputs": [],
   "source": [
    "# html\n",
    "<!doctype html>\n",
    "<html>\n",
    "<head>\n",
    "    <meta charset=\"utf-8\">\n",
    "    <title>Demo</title>\n",
    "</head>\n",
    "<body>\n",
    "    <a href=\"http://jquery.com/\">jQuery</a>\n",
    "    <script src=\"jquery.js\"></script>\n",
    "    <script src=\"prevent.js\"></script>\n",
    "</body>\n",
    "</html>"
   ]
  },
  {
   "cell_type": "markdown",
   "metadata": {},
   "source": [
    "## 添加和移除HTML 的类"
   ]
  },
  {
   "cell_type": "markdown",
   "metadata": {},
   "source": [
    "另一个常见的任务就是添加和移除一个类。"
   ]
  },
  {
   "cell_type": "code",
   "execution_count": null,
   "metadata": {
    "collapsed": true
   },
   "outputs": [],
   "source": [
    "# 首先，我们在 <head> 中添加如下样式类\n",
    "<style>\n",
    "a.test {\n",
    "    font-weight: bold;\n",
    "}\n",
    "</style>"
   ]
  },
  {
   "cell_type": "code",
   "execution_count": null,
   "metadata": {
    "collapsed": true
   },
   "outputs": [],
   "source": [
    "# 在js脚本中使用 addClass() 来添加上述样式\n",
    "$(\"a\").addClass(\"test\");"
   ]
  },
  {
   "cell_type": "markdown",
   "metadata": {},
   "source": [
    "> 这样所有的 `<a>` 元素全被加粗。"
   ]
  },
  {
   "cell_type": "code",
   "execution_count": null,
   "metadata": {
    "collapsed": true
   },
   "outputs": [],
   "source": [
    "# 在js脚本中使用 removeClass() 来删除上述样式\n",
    "$(\"a\").removeClass(\"test\");"
   ]
  },
  {
   "cell_type": "markdown",
   "metadata": {},
   "source": [
    "## 特殊效果"
   ]
  },
  {
   "cell_type": "markdown",
   "metadata": {},
   "source": [
    "`jQuery` 同样还提供一些让你的站点脱颖而出的效果。例如，你可以创建一个 `click` 的事件"
   ]
  },
  {
   "cell_type": "code",
   "execution_count": null,
   "metadata": {
    "collapsed": true
   },
   "outputs": [],
   "source": [
    "$(\"a\").click(function(event){\n",
    "       event.preventDefault();\n",
    "       $(this) .hide(\"slow\");\n",
    "});"
   ]
  },
  {
   "cell_type": "markdown",
   "metadata": {},
   "source": [
    "> 链接当被单击时会慢慢消失"
   ]
  },
  {
   "cell_type": "markdown",
   "metadata": {},
   "source": [
    "## 调用带参数的函数（Callback with arguments）"
   ]
  },
  {
   "cell_type": "markdown",
   "metadata": {},
   "source": [
    "### 错误的方法"
   ]
  },
  {
   "cell_type": "markdown",
   "metadata": {},
   "source": [
    "下面的示例不会起作用："
   ]
  },
  {
   "cell_type": "code",
   "execution_count": null,
   "metadata": {
    "collapsed": true
   },
   "outputs": [],
   "source": [
    "$.get(\"myhtmlpage.html\", myCallBack(parm1, parm2));"
   ]
  },
  {
   "cell_type": "markdown",
   "metadata": {},
   "source": [
    "> 上述代码不会执行的原因是：\n",
    "> * 它会马上执行 `myCallBack(parm1, parm2)`，并将 `myCallBack()`的返回值作为 `$$ .get()`的第二个参数。\n",
    "> 而我们实际上是想要传递的函数是`myCallBack()`，而不是`myCallBack(parm1, parm2)`的返回值。\n",
    "> 那么，如何传递`myCallBack()`并包括它的参数呢？"
   ]
  },
  {
   "cell_type": "markdown",
   "metadata": {},
   "source": [
    "### 错误的方法"
   ]
  },
  {
   "cell_type": "markdown",
   "metadata": {},
   "source": [
    "* 为了执行带参数的 `myCallBack()`，我们需要使用一个 **匿名函数** 作为一个 wrapper。\n",
    "* 注意用法：`function() {`"
   ]
  },
  {
   "cell_type": "code",
   "execution_count": null,
   "metadata": {
    "collapsed": true
   },
   "outputs": [],
   "source": [
    "$.get(\"myhtmlpage.html\", function() {\n",
    "        myCallBack(parm1, parm2);\n",
    "});"
   ]
  },
  {
   "cell_type": "markdown",
   "metadata": {},
   "source": [
    "> 上述代码执行的步骤是：\n",
    "> * `$$.get`完成获取页面 `myhtmlpage.html`后，执行匿名函数。\n",
    "> * 而匿名函数则执行 `myCallBack(parm1, parm2)`"
   ]
  },
  {
   "cell_type": "markdown",
   "metadata": {},
   "source": [
    "# 使用 jQuery （Using jQuery Core）"
   ]
  },
  {
   "cell_type": "markdown",
   "metadata": {},
   "source": [
    "From: [Using jQuery Core](https://learn.jquery.com/using-jquery-core/)"
   ]
  },
  {
   "cell_type": "markdown",
   "metadata": {},
   "source": [
    "## `$$( document ).ready()`"
   ]
  },
  {
   "cell_type": "markdown",
   "metadata": {},
   "source": [
    "* `$$( document ).ready()`: 当页面DOM（Document Object Model）准备好之后，在其中的代码会被运行 **一次**\n",
    "* `$$( window ).load(function(){...})`: 当在整个（包括图像或框架）都准备好之后，而不仅仅DOM，在其中的代码会被运行 **一次**"
   ]
  },
  {
   "cell_type": "code",
   "execution_count": null,
   "metadata": {
    "collapsed": true
   },
   "outputs": [],
   "source": [
    "# $( document ).ready()\n",
    "$(document).ready(function(){\n",
    "        console.log(\"ready!\");\n",
    "});"
   ]
  },
  {
   "cell_type": "code",
   "execution_count": null,
   "metadata": {
    "collapsed": true
   },
   "outputs": [],
   "source": [
    "# $( document ).ready()的缩写，不建议\n",
    "$(function(){\n",
    "        cosole.log(\"ready!\");        \n",
    "});"
   ]
  },
  {
   "cell_type": "markdown",
   "metadata": {},
   "source": [
    "### 用命名函数来替代匿名函数"
   ]
  },
  {
   "cell_type": "code",
   "execution_count": null,
   "metadata": {
    "collapsed": true
   },
   "outputs": [],
   "source": [
    "# 用命名函数来替代匿名函数\n",
    "\n",
    "function readyFn(jQuery){\n",
    "    # 当文档准备好之后需要运行的代码\n",
    "    cosole.log(\"ready!\");\n",
    "}\n",
    "\n",
    "$(document).ready(readFn);\n",
    "# 或\n",
    "$(window).load(readFn);"
   ]
  },
  {
   "cell_type": "markdown",
   "metadata": {},
   "source": [
    "### 示例"
   ]
  },
  {
   "cell_type": "markdown",
   "metadata": {},
   "source": [
    "* 下面示例显示 `$$(document).ready()` 和 `$$(window).load()` 的操作。\n",
    "* 代码将在一个 `<iframe>`中加载一个页面，并检查事件状态。"
   ]
  },
  {
   "cell_type": "code",
   "execution_count": null,
   "metadata": {
    "collapsed": true
   },
   "outputs": [],
   "source": [
    "<html>\n",
    "<head>\n",
    "    <script src=\"https://code.jquery.com/jquery-1.9.1.min.js\"></script>\n",
    "    <script>\n",
    "    $( document ).ready(function() {\n",
    "        console.log( \"document loaded\" );\n",
    "    });\n",
    " \n",
    "    $( window ).load(function() {\n",
    "        console.log( \"window loaded\" );\n",
    "    });\n",
    "    </script>\n",
    "</head>\n",
    "<body>\n",
    "    <iframe src=\"http://techcrunch.com\"></iframe>\n",
    "</body>\n",
    "</html>"
   ]
  },
  {
   "cell_type": "markdown",
   "metadata": {},
   "source": [
    "## 属性（Attributes）"
   ]
  },
  {
   "cell_type": "markdown",
   "metadata": {},
   "source": [
    "### `attr()` 方法"
   ]
  },
  {
   "cell_type": "markdown",
   "metadata": {},
   "source": [
    "#### `attr()`作为设置器（setter）"
   ]
  },
  {
   "cell_type": "code",
   "execution_count": null,
   "metadata": {
    "collapsed": true
   },
   "outputs": [],
   "source": [
    "$(\"a\").attr(\"href\", \"someHref.html\");\n",
    "\n",
    "$(\"a\").attr({\n",
    "        title: \"all titles are the same too!\",\n",
    "        href: \"someNewHref.html\"\n",
    "});"
   ]
  },
  {
   "cell_type": "markdown",
   "metadata": {},
   "source": [
    "#### `attr()`作为获取器（getter）"
   ]
  },
  {
   "cell_type": "code",
   "execution_count": null,
   "metadata": {
    "collapsed": true
   },
   "outputs": [],
   "source": [
    "$(\"a\").attr(\"href\"); "
   ]
  },
  {
   "cell_type": "markdown",
   "metadata": {},
   "source": [
    "> 返回文档中第一个超链接的 href的值"
   ]
  },
  {
   "cell_type": "markdown",
   "metadata": {},
   "source": [
    "## 选择元素（Selecting Elements）"
   ]
  },
  {
   "cell_type": "markdown",
   "metadata": {},
   "source": [
    "* [Selecting Elements](https://learn.jquery.com/using-jquery-core/selecting-elements/)\n",
    "* jQuery最最基本的概念就是“选择一些元素，对它们做些什么”\n",
    "* jQuery 支持大多数的 CSS3 选择器，以及其它一些非标准的选择器\n",
    "* [Selectors documentation on api.jquery.com](http://api.jquery.com/category/selectors/)"
   ]
  },
  {
   "cell_type": "markdown",
   "metadata": {},
   "source": [
    "### Selecting Elements by ID"
   ]
  },
  {
   "cell_type": "code",
   "execution_count": null,
   "metadata": {
    "collapsed": true
   },
   "outputs": [],
   "source": [
    "$(\"#myId\");"
   ]
  },
  {
   "cell_type": "markdown",
   "metadata": {},
   "source": [
    "### Selecting Elements by Class Name"
   ]
  },
  {
   "cell_type": "code",
   "execution_count": null,
   "metadata": {
    "collapsed": true
   },
   "outputs": [],
   "source": [
    "$(\".myClass\");"
   ]
  },
  {
   "cell_type": "markdown",
   "metadata": {},
   "source": [
    "### Selecting Elements by Attribute"
   ]
  },
  {
   "cell_type": "code",
   "execution_count": null,
   "metadata": {
    "collapsed": true
   },
   "outputs": [],
   "source": [
    "$(\"input[name='first_name]\");"
   ]
  },
  {
   "cell_type": "markdown",
   "metadata": {},
   "source": [
    "### Selecting Elements by Compound CSS Selector"
   ]
  },
  {
   "cell_type": "code",
   "execution_count": null,
   "metadata": {
    "collapsed": true
   },
   "outputs": [],
   "source": [
    "$(\"#contents ul.people li\");"
   ]
  },
  {
   "cell_type": "markdown",
   "metadata": {},
   "source": [
    "### Selecting Elements by Comma-separated List of Selectors"
   ]
  },
  {
   "cell_type": "code",
   "execution_count": null,
   "metadata": {
    "collapsed": true
   },
   "outputs": [],
   "source": [
    "$(\"div.myClass, ul.people\");"
   ]
  },
  {
   "cell_type": "markdown",
   "metadata": {},
   "source": [
    "### Selecting Elements by Pseudo-Selectors"
   ]
  },
  {
   "cell_type": "code",
   "execution_count": null,
   "metadata": {
    "collapsed": true
   },
   "outputs": [],
   "source": [
    "$(\"a.external:first\");\n",
    "$(\"tr:odd\");\n",
    "\n",
    "# 选择指定表单中所有 input 元素\n",
    "$( \"#myForm :input\" );\n",
    "$( \"div:visible\" );\n",
    "\n",
    "# 选择除去前三个之外的所有 div\n",
    "$( \"div:gt(2)\" );  # gt: great than\n",
    "\n",
    "# 选择所有当前 animated 的div\n",
    "$( \"div:animated\" );"
   ]
  },
  {
   "cell_type": "markdown",
   "metadata": {},
   "source": [
    "### Choosing Selectors"
   ]
  },
  {
   "cell_type": "markdown",
   "metadata": {},
   "source": [
    "#### Does My Selection Contain Any Elements?"
   ]
  },
  {
   "cell_type": "markdown",
   "metadata": {},
   "source": [
    "当我们想判断选择器是否包含任意元素时，一个常见的错误是："
   ]
  },
  {
   "cell_type": "code",
   "execution_count": null,
   "metadata": {
    "collapsed": true
   },
   "outputs": [],
   "source": [
    "# 不起作用\n",
    "if ( $(\"div.foo\") ){\n",
    "    ...\n",
    "}"
   ]
  },
  {
   "cell_type": "markdown",
   "metadata": {},
   "source": [
    "> 这不会起作用。因为当选择器是由 `$$()` 生成时，总会返回一个对象，而这个对象总是会被认为是 `true`的\n",
    "> 哪怕其它并不包含任何元素，`if` 语句中的代码仍然会被执行。"
   ]
  },
  {
   "cell_type": "markdown",
   "metadata": {},
   "source": [
    "* 比较好的方法是，检测被选择元素的长度， `.length` 属性"
   ]
  },
  {
   "cell_type": "code",
   "execution_count": null,
   "metadata": {
    "collapsed": true
   },
   "outputs": [],
   "source": [
    "# 检测选择器中是否包含元素 \n",
    "if ( $(\"div.foo\").length ){\n",
    "    ...\n",
    "}"
   ]
  },
  {
   "cell_type": "markdown",
   "metadata": {},
   "source": [
    "#### Saving Selections"
   ]
  },
  {
   "cell_type": "code",
   "execution_count": null,
   "metadata": {
    "collapsed": true
   },
   "outputs": [],
   "source": [
    "var divs = $(\"div\");"
   ]
  },
  {
   "cell_type": "markdown",
   "metadata": {},
   "source": [
    "#### Refining & Filtering Selections"
   ]
  },
  {
   "cell_type": "code",
   "execution_count": null,
   "metadata": {
    "collapsed": true
   },
   "outputs": [],
   "source": [
    "# Refining & Filtering Selections\n",
    "$(\"div.foo\").has(\".p\");\n",
    "$(\"h1\").not(\".bar\");\n",
    "$(\"ul li\").filter(\".current\");\n",
    "$(\"ul li\").first();\n",
    "$(\"ul li\").eq(5);   # 第6个"
   ]
  },
  {
   "cell_type": "markdown",
   "metadata": {},
   "source": [
    "#### Selecting Form Elements"
   ]
  },
  {
   "cell_type": "markdown",
   "metadata": {},
   "source": [
    "* jQuery 提供了一些伪选择器（pseudo-selectors）用来发现表单中的元素。"
   ]
  },
  {
   "cell_type": "markdown",
   "metadata": {},
   "source": [
    "**:checked**"
   ]
  },
  {
   "cell_type": "markdown",
   "metadata": {},
   "source": [
    "选择指定表单中所有被选中的元素"
   ]
  },
  {
   "cell_type": "code",
   "execution_count": null,
   "metadata": {
    "collapsed": true
   },
   "outputs": [],
   "source": [
    "$(\"form:checked\");"
   ]
  },
  {
   "cell_type": "markdown",
   "metadata": {},
   "source": [
    "**:disabled**"
   ]
  },
  {
   "cell_type": "markdown",
   "metadata": {},
   "source": [
    "选择指定表单中所有带有 `disabled` 属性的元素"
   ]
  },
  {
   "cell_type": "code",
   "execution_count": null,
   "metadata": {
    "collapsed": false
   },
   "outputs": [],
   "source": [
    "$(\"form:disabled\");"
   ]
  },
  {
   "cell_type": "markdown",
   "metadata": {},
   "source": [
    "**:enabled**"
   ]
  },
  {
   "cell_type": "markdown",
   "metadata": {},
   "source": [
    "选择指定表单中所有**不带** `disabled` 属性的元素"
   ]
  },
  {
   "cell_type": "code",
   "execution_count": null,
   "metadata": {
    "collapsed": false
   },
   "outputs": [],
   "source": [
    "$(\"form:enabled\");"
   ]
  },
  {
   "cell_type": "markdown",
   "metadata": {},
   "source": [
    "**:input**"
   ]
  },
  {
   "cell_type": "markdown",
   "metadata": {},
   "source": [
    "选择指定表单中所有 `input`的元素，如 `<input>, <textarea>, <select>, <button>` 元素"
   ]
  },
  {
   "cell_type": "code",
   "execution_count": null,
   "metadata": {
    "collapsed": false
   },
   "outputs": [],
   "source": [
    "$(\"form:input\");"
   ]
  },
  {
   "cell_type": "markdown",
   "metadata": {},
   "source": [
    "**:selected**"
   ]
  },
  {
   "cell_type": "markdown",
   "metadata": {},
   "source": [
    "选择指定表单中所有 被选中的元素"
   ]
  },
  {
   "cell_type": "code",
   "execution_count": null,
   "metadata": {
    "collapsed": false
   },
   "outputs": [],
   "source": [
    "$(\"form:selected\");"
   ]
  },
  {
   "cell_type": "markdown",
   "metadata": {},
   "source": [
    "**Selecting by type**"
   ]
  },
  {
   "cell_type": "markdown",
   "metadata": {},
   "source": [
    "可以根据表单元素的类型来选择"
   ]
  },
  {
   "cell_type": "markdown",
   "metadata": {
    "collapsed": false
   },
   "source": [
    "* [:password](http://api.jquery.com/password-selector/)\n",
    "* :reset\n",
    "* :radio\n",
    "* :text\n",
    "* :submit\n",
    "* :checkbox\n",
    "* :button\n",
    "* :image\n",
    "* :file"
   ]
  },
  {
   "cell_type": "markdown",
   "metadata": {},
   "source": [
    "## 处理元素（Manipulating Elements）"
   ]
  },
  {
   "cell_type": "markdown",
   "metadata": {},
   "source": [
    "## 获取和设置元素信息（Getting and Setting Information About Elements）"
   ]
  },
  {
   "cell_type": "markdown",
   "metadata": {},
   "source": [
    "有不少方法可以修改一个存在的元素。其它较常见的任务是修改一个元素的内部HTML或属性。"
   ]
  },
  {
   "cell_type": "markdown",
   "metadata": {},
   "source": [
    "* `.html()` : 获取或设置HTML内容\n",
    "* `.text()` : 获取或设置文本内容，HTML则会被去除\n",
    "* `.attr()` : 获取或设置给定属性的值\n",
    "* `.width()` : 获取或设置选中元素中第一个的宽度\n",
    "* `.height()` : 获取或设置选中元素中第一个的高度\n",
    "* `.position()` : 只能用作获取器，也即获取选中元素中第一个元素的位置。\n",
    "* `.val()` : 获取或设置表单元素的值"
   ]
  },
  {
   "cell_type": "markdown",
   "metadata": {},
   "source": [
    "* 记住：修改是将对所有被选择的元素都生效的。\n",
    "* 如果只需要修改一个，则要指定要修改的元素。"
   ]
  },
  {
   "cell_type": "code",
   "execution_count": null,
   "metadata": {
    "collapsed": true
   },
   "outputs": [],
   "source": [
    "# 修改一个元素的HTML内容\n",
    "$(\"#myDiv p:first\").html(\"New <strong>first</strong> paragraph!\");"
   ]
  },
  {
   "cell_type": "markdown",
   "metadata": {},
   "source": [
    "## 移动、复制和删除元素（Moving, Copying, and Removing Elements）"
   ]
  },
  {
   "cell_type": "markdown",
   "metadata": {},
   "source": [
    "通常有两种用于移动元素：\n",
    "\n",
    "* 将选定元素放到相对于其他元素位置\n",
    "    * 例如：`.insertAfter()` \n",
    "* 将一个元素放到相对于选定元素位置"
   ]
  },
  {
   "cell_type": "markdown",
   "metadata": {},
   "source": [
    "例如：\n",
    "\n",
    "* `.insertAfter()` : 将选定元素放到某个用参数来指定的元素的后面\n",
    "* `.after()` : 将某个作为参数给定的元素放到选定元素的后面\n",
    "\n",
    "* 其它类似模式的方法有：\n",
    "    * `insertBefore()`  与 `before()`\n",
    "    * `appendTo()`  与 `append()`\n",
    "    * `prependTo()`  与 `prepend()`"
   ]
  },
  {
   "cell_type": "code",
   "execution_count": null,
   "metadata": {
    "collapsed": true
   },
   "outputs": [],
   "source": [
    "# 用不同的方法实现移动元素\n",
    "\n",
    "# 将列表的第一个元素移到最后一个\n",
    "var li = $(\"#myList li:first\").appendTo(\"#myList\");\n",
    "\n",
    "# 另一种方法\n",
    "$(\"#myList\").append( $(\"#myList li:first\") );"
   ]
  },
  {
   "cell_type": "markdown",
   "metadata": {},
   "source": [
    "> 注意：第二种方法，因为返回列表本身，所以我们没有办法来访问移动的列表项。"
   ]
  },
  {
   "cell_type": "markdown",
   "metadata": {},
   "source": [
    "## 克隆元素（Cloning Elements）"
   ]
  },
  {
   "cell_type": "markdown",
   "metadata": {},
   "source": [
    "移动元素，我们可以使用诸如 `appendTo()`，但有时却需要对一个元素进行完整的复制。\n",
    "\n",
    "此时，我们首先使用 `.clone()`："
   ]
  },
  {
   "cell_type": "code",
   "execution_count": null,
   "metadata": {
    "collapsed": true
   },
   "outputs": [],
   "source": [
    "# 复制一个元素\n",
    "\n",
    "# 将列表的第一项，得到一份放到列表的最后\n",
    "$( \"#myList li:first\" ).clone().appendTo( \"#myList\" );"
   ]
  },
  {
   "cell_type": "markdown",
   "metadata": {},
   "source": [
    "> 如果需要复制数据和事件，此时要确认传递一个参数 `true` 给 `.clone()`。"
   ]
  },
  {
   "cell_type": "markdown",
   "metadata": {},
   "source": [
    "## 删除元素（Removing Elements）"
   ]
  },
  {
   "cell_type": "markdown",
   "metadata": {},
   "source": [
    "有两种方法将元素从页面中移除：\n",
    "\n",
    "* `remove()` ： 将选定元素永久从页面删除\n",
    "* `detach()` :  将选定元素暂时从页面删除，还可以在后面恢复过来。"
   ]
  },
  {
   "cell_type": "markdown",
   "metadata": {},
   "source": [
    "## 创建新元素（Creating New Elements）"
   ]
  },
  {
   "cell_type": "markdown",
   "metadata": {},
   "source": [
    "我们同样可以像选定元素那样使用 `$$()`方法来创建新的元素："
   ]
  },
  {
   "cell_type": "code",
   "execution_count": null,
   "metadata": {
    "collapsed": true
   },
   "outputs": [],
   "source": [
    "# 通过HTML代码来创建新的元素\n",
    "$( \"<p>This is a new paragraph</p>\");\n",
    "$( \"<li class=\\\"new\\\">new list item</li>\" );"
   ]
  },
  {
   "cell_type": "code",
   "execution_count": null,
   "metadata": {
    "collapsed": true
   },
   "outputs": [],
   "source": [
    "# 通过属性对象来创建新元素\n",
    "$( \"<a/>\", {\n",
    "        href: \"foo.html\",\n",
    "        \"class\": \"new\",\n",
    "        html: \"This is a <strong>new</strong> link\"\n",
    "});"
   ]
  },
  {
   "cell_type": "markdown",
   "metadata": {},
   "source": [
    "> 注意：因为 `class` 是保留字，所以要用引号括起来。\n",
    "\n",
    "> [reserved words](https://mathiasbynens.be/notes/reserved-keywords)"
   ]
  },
  {
   "cell_type": "markdown",
   "metadata": {},
   "source": [
    "### 将新建的元素添加到页面中"
   ]
  },
  {
   "cell_type": "markdown",
   "metadata": {},
   "source": [
    "元素被创建之后，并不会马上添加到页面中。我们可以通过以下方式来将新建元素添加到页面中。"
   ]
  },
  {
   "cell_type": "code",
   "execution_count": null,
   "metadata": {
    "collapsed": true
   },
   "outputs": [],
   "source": [
    "# 将新建的元素添加到页面中。\n",
    "\n",
    "var myNewElement = $( \"<p>New element\" );\n",
    "myNewElement.appendTo( \"#content\" );\n",
    "myNewElement.insertAfter( \"ul:last\" );  # 这会将 p 从 #content 中移除\n",
    "$( \"ul\" ).last.after( myNewElement.clone() );  # 克隆 p ，此时我们有两个"
   ]
  },
  {
   "cell_type": "markdown",
   "metadata": {},
   "source": [
    "### 添加多个元素"
   ]
  },
  {
   "cell_type": "markdown",
   "metadata": {},
   "source": [
    "如果需要添加多个元素到同一个容器里，那么可以将HTML代码连成一个单独的字符串，然后将这些字符串一次性地添加到容器里。"
   ]
  },
  {
   "cell_type": "code",
   "execution_count": null,
   "metadata": {
    "collapsed": true
   },
   "outputs": [],
   "source": [
    "var myItems = [];\n",
    "var myList = $( \"#myList\" );\n",
    "\n",
    "for ( var i = 0; i < 100; i++ ){\n",
    "    myItems.push( \"<li>item \" + i + \"</li>\");\n",
    "}\n",
    "\n",
    "myList.append( myItems.join( \"\" ));"
   ]
  },
  {
   "cell_type": "markdown",
   "metadata": {},
   "source": [
    "## 操作属性（Manipulating Attributes）"
   ]
  },
  {
   "cell_type": "code",
   "execution_count": null,
   "metadata": {
    "collapsed": false
   },
   "outputs": [],
   "source": [
    "# 操作单独一个属性\n",
    "$( \"#myDiv a:first\" ).attr( \"href\", \"newUrl.html\" );"
   ]
  },
  {
   "cell_type": "code",
   "execution_count": null,
   "metadata": {
    "collapsed": false
   },
   "outputs": [],
   "source": [
    "# 操作多个属性\n",
    "$( \"#myDiv a:first\" ).attr( {\n",
    "        href: \"newUrl.html\",\n",
    "        rel: \"nofollow\"\n",
    "});"
   ]
  },
  {
   "cell_type": "code",
   "execution_count": null,
   "metadata": {
    "collapsed": false
   },
   "outputs": [],
   "source": [
    "# 用一个函数来判断一个属性新的值\n",
    "$( \"#myDiv a:first\" ).attr( {        \n",
    "        rel: \"nofollow\",\n",
    "        href: function( idx, href ) {\n",
    "            return \"/new/\" + href;\n",
    "        }\n",
    "});\n",
    "\n",
    "$( \"#myDiv a:first\" ).attr( \"href\", function( idx, href ){\n",
    "        return \"/new/\" + href;\n",
    "});"
   ]
  },
  {
   "cell_type": "markdown",
   "metadata": {},
   "source": [
    "## jQuery对象（The jQuery Object）"
   ]
  },
  {
   "cell_type": "markdown",
   "metadata": {},
   "source": [
    "与直接操作DOM相比，使用 jQuery 对象定义的许多方法则显得顺畅许多。"
   ]
  },
  {
   "cell_type": "markdown",
   "metadata": {},
   "source": [
    "## jQuery对象有以下优点"
   ]
  },
  {
   "cell_type": "markdown",
   "metadata": {},
   "source": [
    "### Compatibility"
   ]
  },
  {
   "cell_type": "code",
   "execution_count": null,
   "metadata": {
    "collapsed": true
   },
   "outputs": [],
   "source": [
    "# 直接操作 DOM，在多数 IE 不兼容\n",
    "var target = document.getElementById( \"target\" );\n",
    "target.innerHTML = \"<td>Hello <b>World</b>!</td>\";"
   ]
  },
  {
   "cell_type": "markdown",
   "metadata": {},
   "source": [
    "但将上述 target 元素用 jQuery 包裹起来，结果就变得可以被所有的浏览器接受了。"
   ]
  },
  {
   "cell_type": "code",
   "execution_count": null,
   "metadata": {
    "collapsed": true
   },
   "outputs": [],
   "source": [
    "# 用 jQuery 设置元素内的 HTML 代码\n",
    "var target = document.getElementById( \"target\" );\n",
    "$( target ).html( \"<td>Hello <b>World</b>!</td>\" );"
   ]
  },
  {
   "cell_type": "markdown",
   "metadata": {},
   "source": [
    "### Convenience"
   ]
  },
  {
   "cell_type": "markdown",
   "metadata": {},
   "source": [
    "有许多 DOM 的操作，使用 jQuery 比原生的 DOM 来的方便。"
   ]
  },
  {
   "source": [
    "# 使用原生的 DOM API 来实现将一个新建元素插入到另一个元素的后面\n",
    "var target = document.getElementById( \"target\" );\n",
    " \n",
    "var newElement = document.createElement( \"div\" );\n",
    " \n",
    "target.parentNode.insertBefore( newElement, target.nextSibling );"
   ]
  },
  {
   "cell_type": "code",
   "execution_count": null,
   "metadata": {
    "collapsed": true
   },
   "outputs": [],
   "source": [
    "# 使用 jQuery 来实现将一个新建元素插入到另一个元素的后面\n",
    "var target = document.getElementById( \"target\" );\n",
    " \n",
    "var newElement = document.createElement( \"div\" );\n",
    "\n",
    "$( target ).after( newElement );"
   ]
  },
  {
   "cell_type": "markdown",
   "metadata": {},
   "source": [
    "## 获取元素到 jQuery 对象"
   ]
  },
  {
   "cell_type": "code",
   "execution_count": null,
   "metadata": {
    "collapsed": true
   },
   "outputs": [],
   "source": [
    "# 将所有的 <h1> 标签保存的 headings\n",
    "var headings = $( \"h1\" );"
   ]
  },
  {
   "cell_type": "markdown",
   "metadata": {},
   "source": [
    "此时，`headings` 就是一个包含所有 `<h1>` 标签的 jQuery 对象。"
   ]
  },
  {
   "cell_type": "code",
   "execution_count": null,
   "metadata": {
    "collapsed": true
   },
   "outputs": [],
   "source": [
    "# 获取页面上 <h1> 的数量\n",
    "var headings = $( \"h1\" );\n",
    "alert( headings.length );"
   ]
  },
  {
   "cell_type": "code",
   "execution_count": null,
   "metadata": {
    "collapsed": true
   },
   "outputs": [],
   "source": [
    "# 选择第一个 `<h1>` 元素\n",
    "var headings = $( \"h1\" );\n",
    "var firstHeading = headings.eq(0);"
   ]
  },
  {
   "cell_type": "markdown",
   "metadata": {},
   "source": [
    "> * 此时 firstHeading 就是一个仅仅包含页面上第一个 `<h1>` 元素的 `jQuery` 对象。"
   ]
  },
  {
   "cell_type": "code",
   "execution_count": 3,
   "metadata": {
    "collapsed": true
   },
   "outputs": [],
   "source": [
    "# 选中页面上的每一个 <h1> 元素本身\n",
    "var firstHeadingElem = $( \"h1\" ).get(0);\n",
    "# 或\n",
    "var firstHeadingElem = $( \"h1\" )[ 0 ];"
   ]
  },
  {
   "cell_type": "markdown",
   "metadata": {},
   "source": [
    "## 遍历jQuery对象（Traversing）"
   ]
  },
  {
   "cell_type": "markdown",
   "metadata": {},
   "source": [
    "[Traversing](https://learn.jquery.com/using-jquery-core/traversing/)"
   ]
  },
  {
   "cell_type": "markdown",
   "metadata": {},
   "source": [
    "jQuery 对象的遍历，可以分成 三个部分及具体方法：\n",
    "\n",
    "* parents\n",
    "    * `.parent()`\n",
    "    * `.parents()`\n",
    "    * `.parentsUntil()`\n",
    "    * `.closest()`\n",
    "    \n",
    "* children\n",
    "    * `.find()`\n",
    "    * `.children()`\n",
    "* siblings\n",
    "    * `.prev()`\n",
    "    * `.next()`\n",
    "    * `.siblings()`\n",
    "    * `.nextAll()`\n",
    "    * `.nextUntil()`\n",
    "    * `.prevAll()`\n",
    "    * `.prevUntil()`"
   ]
  },
  {
   "cell_type": "markdown",
   "metadata": {},
   "source": [
    "# CSS, Styling, & Dimensions"
   ]
  },
  {
   "cell_type": "markdown",
   "metadata": {},
   "source": [
    "[CSS, Styling, & Dimensions](https://learn.jquery.com/using-jquery-core/css-styling-dimensions/)"
   ]
  },
  {
   "cell_type": "markdown",
   "metadata": {},
   "source": [
    "### jQuery 可以很方便的设置和获取元素的 CSS 属性"
   ]
  },
  {
   "cell_type": "code",
   "execution_count": null,
   "metadata": {
    "collapsed": true
   },
   "outputs": [],
   "source": [
    "# 获取 CSS 属性\n",
    "$( \"h1\" ).css(\"fontSize\");\n",
    "$( \"h1\" ).css(\"font-size\"); # also works"
   ]
  },
  {
   "cell_type": "code",
   "execution_count": null,
   "metadata": {
    "collapsed": true
   },
   "outputs": [],
   "source": [
    "# 设置 CSS 属性\n",
    "$( \"h1\" ).css( \"font-size\", \"30px\" );\n",
    "\n",
    "# 设置 多个属性\n",
    "$( \"h1\" ).css({\n",
    "    fontSize: \"35px\",   # or: \"font-size\"\n",
    "    color: \"red\"    \n",
    "});"
   ]
  },
  {
   "cell_type": "markdown",
   "metadata": {},
   "source": [
    "### jQuery 可以很方便的设置和获取元素的 大小和位置"
   ]
  },
  {
   "cell_type": "code",
   "execution_count": null,
   "metadata": {
    "collapsed": true
   },
   "outputs": [],
   "source": [
    "# 设置所有 <h1> 元素的宽度\n",
    "$( \"h1\" ).width( \"50px\" );\n",
    "\n",
    "# 获取所有 <h1> 元素的宽度和高度\n",
    "$( \"h1\" ).width();\n",
    "$( \"h1\" ).height();\n",
    "\n",
    "# 返回第一个 <h1> 元素的位置\n",
    "$( \"h1\" ).position();"
   ]
  },
  {
   "cell_type": "markdown",
   "metadata": {},
   "source": [
    "# Data Methods"
   ]
  },
  {
   "cell_type": "markdown",
   "metadata": {},
   "source": [
    "[Data Methods](https://learn.jquery.com/using-jquery-core/data-methods/)"
   ]
  },
  {
   "cell_type": "code",
   "execution_count": 4,
   "metadata": {
    "collapsed": true
   },
   "outputs": [],
   "source": [
    "# 存储和获取与某一元素关联的数据\n",
    "\n",
    "$( \"#myDiv\" ).data( \"keyName\", { foo: \"bar\"});\n",
    "\n",
    "$( \"#myDiv\" ).data( \"keyName\" );"
   ]
  },
  {
   "cell_type": "code",
   "execution_count": null,
   "metadata": {
    "collapsed": true
   },
   "outputs": [],
   "source": [
    "# Storing a relationship between elements using .data()\n",
    " \n",
    "$( \"#myList li\" ).each(function() {\n",
    " \n",
    "    var li = $( this );\n",
    "    var div = li.find( \"div.content\" );\n",
    " \n",
    "    li.data( \"contentDiv\", div );\n",
    " \n",
    "});\n",
    " \n",
    "# Later, we don't have to find the div again;\n",
    "# we can just read it from the list item's data\n",
    "var firstLi = $( \"#myList li:first\" );\n",
    " \n",
    "firstLi.data( \"contentDiv\" ).html( \"new content\" );"
   ]
  },
  {
   "cell_type": "markdown",
   "metadata": {},
   "source": [
    "# Utility Methods"
   ]
  },
  {
   "cell_type": "markdown",
   "metadata": {},
   "source": [
    "[Utility Methods](https://learn.jquery.com/using-jquery-core/utility-methods/)"
   ]
  },
  {
   "cell_type": "markdown",
   "metadata": {},
   "source": [
    "### $.trim()"
   ]
  },
  {
   "cell_type": "code",
   "execution_count": null,
   "metadata": {
    "collapsed": true
   },
   "outputs": [],
   "source": [
    "# Returns \"lots of extra whitespace\"\n",
    "$.trim( \"    lots of extra whitespace    \" );"
   ]
  },
  {
   "cell_type": "markdown",
   "metadata": {},
   "source": [
    "### $.each()"
   ]
  },
  {
   "cell_type": "markdown",
   "metadata": {},
   "source": [
    "遍历数组和对象"
   ]
  },
  {
   "cell_type": "code",
   "execution_count": null,
   "metadata": {
    "collapsed": true
   },
   "outputs": [],
   "source": [
    "$.each([ \"foo\", \"bar\", \"baz\" ], function( idx, val ) {\n",
    "    console.log( \"element \" + idx + \" is \" + val );\n",
    "});\n",
    " \n",
    "$.each({ foo: \"bar\", baz: \"bim\" }, function( k, v ) {\n",
    "    console.log( k + \" : \" + v );\n",
    "});"
   ]
  },
  {
   "cell_type": "markdown",
   "metadata": {},
   "source": [
    "### $.inArray()"
   ]
  },
  {
   "cell_type": "markdown",
   "metadata": {},
   "source": [
    "检测值是否在数组里，在的话，返回值的索引，否则返回 -1。"
   ]
  },
  {
   "cell_type": "code",
   "execution_count": null,
   "metadata": {
    "collapsed": true
   },
   "outputs": [],
   "source": [
    "var myArray = [1, 2, ,3 ,4, 5];\n",
    "\n",
    "if ( $.inArray(4, myArray ) !== -1 ){\n",
    "    console.log( \"found it!\" );\n",
    "}"
   ]
  }
 ],
 "metadata": {
  "kernelspec": {
   "display_name": "Python 2",
   "language": "python",
   "name": "python2"
  },
  "language_info": {
   "codemirror_mode": {
    "name": "ipython",
    "version": 2
   },
   "file_extension": ".py",
   "mimetype": "text/x-python",
   "name": "python",
   "nbconvert_exporter": "python",
   "pygments_lexer": "ipython2",
   "version": "2.7.6"
  },
  "widgets": {
   "state": {},
   "version": "1.1.1"
  }
 },
 "nbformat": 4,
 "nbformat_minor": 0
}

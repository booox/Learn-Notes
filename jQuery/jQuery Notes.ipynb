{
 "cells": [
  {
   "cell_type": "markdown",
   "metadata": {},
   "source": [
    "* 23:18 2016/1/16 [codeskulptor](http://www.codeskulptor.org/docs.html)"
   ]
  },
  {
   "cell_type": "markdown",
   "metadata": {},
   "source": [
    "# Links\n",
    "\n",
    "* [jQuery - Official Site](http://jquery.com/)\n",
    "* [Try jQuery](https://www.codeschool.com/courses/try-jquery)\n",
    "* [jQuery Tutorial at W3schools](http://www.w3schools.com/jquery/)"
   ]
  },
  {
   "cell_type": "markdown",
   "metadata": {},
   "source": [
    "### 使用jQuery"
   ]
  },
  {
   "cell_type": "markdown",
   "metadata": {},
   "source": [
    "#### 把 jQuery 添加到您的网页"
   ]
  },
  {
   "cell_type": "code",
   "execution_count": null,
   "metadata": {
    "collapsed": false
   },
   "outputs": [],
   "source": [
    "# 在<head></head> 中加入\n",
    "<script src=\"https://code.jquery.com/jquery-1.10.2.js\"></script>"
   ]
  },
  {
   "cell_type": "markdown",
   "metadata": {},
   "source": [
    "#### HTML 和 Javascript"
   ]
  },
  {
   "cell_type": "code",
   "execution_count": null,
   "metadata": {
    "collapsed": false
   },
   "outputs": [],
   "source": [
    "# 在<head></head> 中加入\n",
    "<body>\n",
    "    <p id=\"hello\">Hello</p>\n",
    "    <a id=\"clickme\" href=\"#\">Click to hide me too</a>\n",
    "    <p id=\"p2\">Here is another paragraph</p>\n",
    "\n",
    "    <script>\n",
    "    $( \"#hello\" ).hide();\n",
    "    $( \"a#clickme\" ).click(function( event ) {\n",
    "      $(\"#p2\").toggle();\n",
    "    });\n",
    "\n",
    "    </script>\n",
    "</body>"
   ]
  },
  {
   "cell_type": "markdown",
   "metadata": {},
   "source": [
    "# 在Flask中用jQuery 实现 ajax"
   ]
  },
  {
   "cell_type": "markdown",
   "metadata": {},
   "source": [
    "## 几个要点"
   ]
  },
  {
   "cell_type": "markdown",
   "metadata": {},
   "source": [
    "### 加载 jQuery"
   ]
  },
  {
   "cell_type": "code",
   "execution_count": null,
   "metadata": {
    "collapsed": true
   },
   "outputs": [],
   "source": [
    "<script type=text/javascript src=\"{{ url_for('static', filename='jquery.js') }}\"></script>"
   ]
  },
  {
   "cell_type": "markdown",
   "metadata": {},
   "source": [
    "### 创建脚本标签 （Script tag）"
   ]
  },
  {
   "cell_type": "code",
   "execution_count": null,
   "metadata": {
    "collapsed": true
   },
   "outputs": [],
   "source": [
    "<script type=text/javascript>\n",
    "  $SCRIPT_ROOT = {{ request.script_root|tojson|safe }};\n",
    "</script>"
   ]
  },
  {
   "cell_type": "markdown",
   "metadata": {},
   "source": [
    "## JSON 视图函数"
   ]
  },
  {
   "cell_type": "code",
   "execution_count": null,
   "metadata": {
    "collapsed": true
   },
   "outputs": [],
   "source": [
    "from flask import Flask, jsonify, render_template, request, url_for\n",
    "app = Flask(__name__)\n",
    "\n",
    "@app.route('/_add_numbers')\n",
    "def add_numbers():\n",
    "    a = request.args.get('a', 0, type=int)\n",
    "    b = request.args.get('b', 0, type=int)\n",
    "    return jsonify(result=a + b)\n",
    "\n",
    "@app.route('/')\n",
    "def index():\n",
    "    return render_template('index.html')"
   ]
  },
  {
   "cell_type": "markdown",
   "metadata": {},
   "source": [
    "> 因为少了 `url_for` 浪费了两个小时"
   ]
  },
  {
   "cell_type": "markdown",
   "metadata": {},
   "source": [
    "## The HTML"
   ]
  },
  {
   "cell_type": "code",
   "execution_count": null,
   "metadata": {
    "collapsed": true
   },
   "outputs": [],
   "source": [
    "# layout.html\n",
    "<title>Flask AJAX Demo</title>\n",
    "<meta http-equiv=\"content-type\" content=\"text/html; charset=utf-8\">\n",
    "<script type=\"text/javascript\" src=\"{{ url_for('static', filename='js/jquery-1.10.2.js') }}\"></script>\n",
    "<script type=\"text/javascript\">\n",
    "  var $SCRIPT_ROOT = {{ request.script_root|tojson|safe }};\n",
    "</script>        \n",
    " \n",
    "{% block body %}{% endblock %}"
   ]
  },
  {
   "cell_type": "code",
   "execution_count": null,
   "metadata": {
    "collapsed": true
   },
   "outputs": [],
   "source": [
    "# index.html\n",
    "{% extends \"layout.html\" %}\n",
    "\n",
    "{% block body %}\n",
    "\n",
    "<h1>jQuery Example</h1>\n",
    "<p><input type=\"text\" size=5 name=\"a\"> +\n",
    "   <input type=\"text\" size=5 name=\"b\"> =\n",
    "   <span id=\"result\">?</span>\n",
    "<p><a href=\"#\" id=\"calculate\">calculate server side</a>\n",
    "\n",
    "<script type=\"text/javascript\" src=\"{{ url_for('static', filename='js/add_numbers.js') }}\"></script>\n",
    "{% endblock %}"
   ]
  },
  {
   "cell_type": "markdown",
   "metadata": {},
   "source": [
    "## javascript"
   ]
  },
  {
   "cell_type": "code",
   "execution_count": null,
   "metadata": {
    "collapsed": true
   },
   "outputs": [],
   "source": [
    "# add_numbers.js\n",
    "\n",
    "  $(function() {\n",
    "    $('a#calculate').bind('click', function() {\n",
    "      $.getJSON($SCRIPT_ROOT + '/_add_numbers', {\n",
    "        a: $('input[name=\"a\"]').val(),\n",
    "        b: $('input[name=\"b\"]').val()\n",
    "      }, function(data) {\n",
    "        $(\"#result\").text(data.result);\n",
    "      });\n",
    "      return false;\n",
    "    });\n",
    "  });"
   ]
  },
  {
   "cell_type": "markdown",
   "metadata": {},
   "source": [
    "> 保存为 `.js` 格式，不需要加上 `<script>` 标签 "
   ]
  },
  {
   "cell_type": "code",
   "execution_count": null,
   "metadata": {
    "collapsed": true
   },
   "outputs": [],
   "source": [
    "# 另一版本：add_numbers.js\n",
    "\n",
    "$(function() {\n",
    "    var submit_form = function(e) {\n",
    "      $.getJSON($SCRIPT_ROOT + '/_add_numbers', {\n",
    "        a: $('input[name=\"a\"]').val(),\n",
    "        b: $('input[name=\"b\"]').val()\n",
    "      }, function(data) {\n",
    "        $('#result').text(data.result);\n",
    "        $('input[name=a]').focus().select();\n",
    "      });\n",
    "      return false;\n",
    "    };\n",
    "    $('a#calculate').bind('click', submit_form);\n",
    "    $('input[type=text]').bind('keydown', function(e) {\n",
    "      if (e.keyCode == 13) {\n",
    "        submit_form(e);\n",
    "      }\n",
    "    });\n",
    "    $('input[name=a]').focus();\n",
    "  });"
   ]
  },
  {
   "cell_type": "markdown",
   "metadata": {},
   "source": [
    "# How jQuery Works"
   ]
  },
  {
   "cell_type": "markdown",
   "metadata": {},
   "source": [
    "* Ref: [How jQuery Works](https://learn.jquery.com/about-jquery/how-jquery-works/)"
   ]
  },
  {
   "cell_type": "markdown",
   "metadata": {},
   "source": [
    "## 下载 jQuery 副本"
   ]
  },
  {
   "cell_type": "markdown",
   "metadata": {},
   "source": [
    "* [ Downloading jQuery ](http://jquery.com/download/)\n",
    "    * [Download the compressed, production jQuery 3.0.0](https://code.jquery.com/jquery-3.0.0.min.js)"
   ]
  },
  {
   "cell_type": "markdown",
   "metadata": {},
   "source": [
    "## jQuery: The Basics"
   ]
  },
  {
   "cell_type": "code",
   "execution_count": null,
   "metadata": {
    "collapsed": true
   },
   "outputs": [],
   "source": [
    "<!doctype html>\n",
    "<html>\n",
    "<head>\n",
    "    <meta charset=\"utf-8\">\n",
    "    <title>Demo</title>\n",
    "</head>\n",
    "<body>\n",
    "    <a href=\"http://jquery.com/\">jQuery</a>\n",
    "    <script src=\"jquery.js\"></script>\n",
    "    <script>\n",
    " \n",
    "    // Your code goes here.\n",
    " \n",
    "    </script>\n",
    "</body>\n",
    "</html>"
   ]
  },
  {
   "cell_type": "markdown",
   "metadata": {},
   "source": [
    "## 在文档 `ready` 事件发生时执行代码"
   ]
  },
  {
   "cell_type": "markdown",
   "metadata": {},
   "source": [
    "* [.ready() event](http://api.jquery.com/ready/)"
   ]
  },
  {
   "cell_type": "markdown",
   "metadata": {},
   "source": [
    "### 在 `ready` 事件中，添加一个超链接的 `click` 事件"
   ]
  },
  {
   "cell_type": "code",
   "execution_count": null,
   "metadata": {
    "collapsed": true
   },
   "outputs": [],
   "source": [
    "$(document).ready(function() {\n",
    "    $(\"a\").click(function(event){\n",
    "        alert(\"Thanks for visiting!\");\n",
    "    });\n",
    "});"
   ]
  },
  {
   "cell_type": "markdown",
   "metadata": {},
   "source": [
    "### 阻止 `click` 事件默认行为（多数事件都可以）"
   ]
  },
  {
   "cell_type": "code",
   "execution_count": null,
   "metadata": {
    "collapsed": true
   },
   "outputs": [],
   "source": [
    "$(document).ready(function() {\n",
    "    $(\"a\").click(function(event){\n",
    "        alert(\"The link doesn't work.\");\n",
    "        event.preventDefault();\n",
    "    });\n",
    "});"
   ]
  },
  {
   "cell_type": "markdown",
   "metadata": {},
   "source": [
    "## 稍复杂的实例"
   ]
  },
  {
   "cell_type": "markdown",
   "metadata": {},
   "source": [
    "通过可以将 JS 代码放在单独的一个文件里，然后用 `<script>` 元素的 `src` 属性来指定 JS 文件"
   ]
  },
  {
   "cell_type": "code",
   "execution_count": null,
   "metadata": {
    "collapsed": true
   },
   "outputs": [],
   "source": [
    "# prevent.js\n",
    " $( document ).ready(function() {\n",
    "        $( \"a\" ).click(function( event ) {\n",
    "            alert( \"The link will no longer take you to jquery.com\" );\n",
    "            event.preventDefault();\n",
    "        });\n",
    "    });"
   ]
  },
  {
   "cell_type": "code",
   "execution_count": null,
   "metadata": {
    "collapsed": true
   },
   "outputs": [],
   "source": [
    "# html\n",
    "<!doctype html>\n",
    "<html>\n",
    "<head>\n",
    "    <meta charset=\"utf-8\">\n",
    "    <title>Demo</title>\n",
    "</head>\n",
    "<body>\n",
    "    <a href=\"http://jquery.com/\">jQuery</a>\n",
    "    <script src=\"jquery.js\"></script>\n",
    "    <script src=\"prevent.js\"></script>\n",
    "</body>\n",
    "</html>"
   ]
  },
  {
   "cell_type": "markdown",
   "metadata": {},
   "source": [
    "## 添加和移除HTML 的类"
   ]
  },
  {
   "cell_type": "markdown",
   "metadata": {},
   "source": [
    "另一个常见的任务就是添加和移除一个类。"
   ]
  },
  {
   "cell_type": "code",
   "execution_count": null,
   "metadata": {
    "collapsed": true
   },
   "outputs": [],
   "source": [
    "# 首先，我们在 <head> 中添加如下样式类\n",
    "<style>\n",
    "a.test {\n",
    "    font-weight: bold;\n",
    "}\n",
    "</style>"
   ]
  },
  {
   "cell_type": "code",
   "execution_count": null,
   "metadata": {
    "collapsed": true
   },
   "outputs": [],
   "source": [
    "# 在js脚本中使用 addClass() 来添加上述样式\n",
    "$(\"a\").addClass(\"test\");"
   ]
  },
  {
   "cell_type": "markdown",
   "metadata": {},
   "source": [
    "> 这样所有的 `<a>` 元素全被加粗。"
   ]
  },
  {
   "cell_type": "code",
   "execution_count": null,
   "metadata": {
    "collapsed": true
   },
   "outputs": [],
   "source": [
    "# 在js脚本中使用 removeClass() 来删除上述样式\n",
    "$(\"a\").removeClass(\"test\");"
   ]
  },
  {
   "cell_type": "code",
   "execution_count": null,
   "metadata": {
    "collapsed": true
   },
   "outputs": [],
   "source": []
  }
 ],
 "metadata": {
  "kernelspec": {
   "display_name": "Python 2",
   "language": "python",
   "name": "python2"
  },
  "language_info": {
   "codemirror_mode": {
    "name": "ipython",
    "version": 2
   },
   "file_extension": ".py",
   "mimetype": "text/x-python",
   "name": "python",
   "nbconvert_exporter": "python",
   "pygments_lexer": "ipython2",
   "version": "2.7.6"
  },
  "widgets": {
   "state": {},
   "version": "1.1.1"
  }
 },
 "nbformat": 4,
 "nbformat_minor": 0
}
